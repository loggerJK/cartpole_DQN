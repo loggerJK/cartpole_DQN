{
 "cells": [
  {
   "cell_type": "code",
   "execution_count": null,
   "source": [
    "import gym\n",
    "from DQNTrainer import DQNTrainer\n",
    "\n",
    "env = gym.make(\"CartPole-v0\")\n",
    "\n",
    "trainer = DQNTrainer(env)\n",
    "\n",
    "trainer.train()\n"
   ],
   "outputs": [],
   "metadata": {}
  }
 ],
 "metadata": {
  "orig_nbformat": 4,
  "language_info": {
   "name": "python"
  }
 },
 "nbformat": 4,
 "nbformat_minor": 2
}