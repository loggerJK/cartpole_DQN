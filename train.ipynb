{
 "cells": [
  {
   "cell_type": "code",
   "execution_count": null,
   "source": [
    "import gym\n",
    "from DQNTrainer import DQNTrainer\n",
    "\n",
    "env = gym.make(\"CartPole-v0\")\n",
    "\n",
    "trainer = DQNTrainer(env)\n",
    "\n",
    "trainer.train()\n"
   ],
   "outputs": [],
   "metadata": {}
  }
 ],
 "metadata": {
  "orig_nbformat": 4,
  "language_info": {
   "name": "python",
   "version": "3.9.6"
  },
  "kernelspec": {
   "name": "python3",
   "display_name": "Python 3.9.6 64-bit ('pacman': conda)"
  },
  "interpreter": {
   "hash": "3232e1744b8464af768fdc605dca4087690e3d885147bff14628c681d42e047e"
  }
 },
 "nbformat": 4,
 "nbformat_minor": 2
}